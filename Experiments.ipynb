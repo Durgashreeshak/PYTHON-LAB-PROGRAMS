{
 "cells": [
  {
   "cell_type": "markdown",
   "id": "7bf7e7ce",
   "metadata": {},
   "source": [
    "# Expriment no:1\n",
    "## Develop a python program to read n digit integer number,and separete the integre number and display each digit."
   ]
  },
  {
   "cell_type": "code",
   "execution_count": 1,
   "id": "84b388e9",
   "metadata": {},
   "outputs": [
    {
     "name": "stdout",
     "output_type": "stream",
     "text": [
      "Enter the number of digits:2\n",
      "Enter a 2-digit integer:1\n",
      "Please enter a 2-digit integer;\n"
     ]
    }
   ],
   "source": [
    "n=int(input(\"Enter the number of digits:\"))\n",
    "if n>0:\n",
    "    number=int(input(f\"Enter a {n}-digit integer:\"))\n",
    "    if number>=10**(n-1) and number<10**n:\n",
    "        for i in range(n):\n",
    "            digit=number//(10**(n-1))\n",
    "            print(digit)\n",
    "            number%=10**(n-1)\n",
    "            n-=1\n",
    "    else:\n",
    "        print(f\"Please enter a {n}-digit integer;\")\n",
    "else:\n",
    "    print(\"Please enter a valid number of digits(greater than 0).\")"
   ]
  },
  {
   "cell_type": "markdown",
   "id": "7703c9e5",
   "metadata": {},
   "source": [
    "# Experiment no:2\n",
    "## Develop a python program to accept 4 numbers and display them in sorted order using a minimum number of if-else statements."
   ]
  },
  {
   "cell_type": "code",
   "execution_count": 2,
   "id": "f8224ee0",
   "metadata": {},
   "outputs": [
    {
     "name": "stdout",
     "output_type": "stream",
     "text": [
      "Enter the first number:7\n",
      "Enter the second number:4\n",
      "Enter the third number:3\n",
      "Enter the fourth number:5\n",
      "The sorted numbers are: 7 5 4 3\n"
     ]
    }
   ],
   "source": [
    "a=int(input(\"Enter the first number:\"))\n",
    "b=int(input(\"Enter the second number:\"))\n",
    "c=int(input(\"Enter the third number:\"))\n",
    "d=int(input(\"Enter the fourth number:\"))\n",
    "if a<b:a,b=b,a\n",
    "if c<d:c,d=d,c\n",
    "if a<c:a,c=c,a\n",
    "if b<d:b,d=d,b\n",
    "if b<c:b,c=c,b\n",
    "print(\"The sorted numbers are:\",a,b,c,d)"
   ]
  },
  {
   "cell_type": "markdown",
   "id": "39550805",
   "metadata": {},
   "source": [
    "# Experiment no:-4\n",
    "## Develop a program for checking if a given digit is palindrome or not."
   ]
  },
  {
   "cell_type": "code",
   "execution_count": 3,
   "id": "c4896eec",
   "metadata": {},
   "outputs": [
    {
     "name": "stdout",
     "output_type": "stream",
     "text": [
      "Enter an n-digit number:1234\n",
      "Not a palindrome.\n"
     ]
    }
   ],
   "source": [
    "number=int(input(\"Enter an n-digit number:\"))\n",
    "original_number=number\n",
    "reversed_number=0\n",
    "while number>0:\n",
    "    digit=number%10\n",
    "    reversed_number=reversed_number*10+digit\n",
    "    number//=10\n",
    "if original_number==reversed_number:\n",
    "    print(\"Palindrome.\")\n",
    "else:\n",
    "    print(\"Not a palindrome.\")"
   ]
  },
  {
   "cell_type": "markdown",
   "id": "88e093fe",
   "metadata": {},
   "source": [
    "# Experiment no:-5\n",
    "## Develop a python script to display a multiplication table for given integer n.\n"
   ]
  },
  {
   "cell_type": "code",
   "execution_count": 5,
   "id": "6edc2cf9",
   "metadata": {},
   "outputs": [
    {
     "name": "stdout",
     "output_type": "stream",
     "text": [
      "Enter an integer for multiplication table:2\n",
      "Multiplication Table for 2:\n",
      "2x1=2\n",
      "2x2=4\n",
      "2x3=6\n",
      "2x4=8\n",
      "2x5=10\n",
      "2x6=12\n",
      "2x7=14\n",
      "2x8=16\n",
      "2x9=18\n",
      "2x10=20\n"
     ]
    }
   ],
   "source": [
    "n=int(input(\"Enter an integer for multiplication table:\"))\n",
    "print(f\"Multiplication Table for {n}:\")\n",
    "for i in range(1,11):\n",
    "    result=n*i\n",
    "    print(f\"{n}x{i}={result}\")"
   ]
  },
  {
   "cell_type": "markdown",
   "id": "8bef63bc",
   "metadata": {},
   "source": [
    "# Experiment no:-3\n",
    "## Develop python scripts to calculate the mean,median,mode,variance and standard deviation of n integer numbers"
   ]
  },
  {
   "cell_type": "code",
   "execution_count": 6,
   "id": "df220024",
   "metadata": {},
   "outputs": [
    {
     "name": "stdout",
     "output_type": "stream",
     "text": [
      "Enter the number of elements:6\n",
      "Enter number 1:4\n",
      "Enter number 2:8\n",
      "Enter number 3:6\n",
      "Enter number 4:5\n",
      "Enter number 5:3\n",
      "Enter number 6:9\n",
      "Mean=5.833333333333333\n",
      "Median=5.5\n",
      "Mode=No mode\n",
      "Sample variance=5.366666666666667\n",
      "Population variance=4.472222222222222\n",
      "Sample standard deviation=2.316606713852541\n",
      "Sample population deviation=2.1147629234082532\n"
     ]
    }
   ],
   "source": [
    "n=int(input(\"Enter the number of elements:\"))\n",
    "numbers=[int(input(f\"Enter number {i+1}:\")) for i in range(n)]\n",
    "mean=sum(numbers)/n\n",
    "numbers.sort()\n",
    "if n%2==0:\n",
    "    median=(numbers[n//2-1]+numbers[n//2])/2\n",
    "else:\n",
    "    median=numbers[n//2]\n",
    "frequency={num:numbers.count(num) for num in numbers}\n",
    "max_count=max(frequency.values())\n",
    "mode=[k for k,v in frequency.items() if v==max_count]\n",
    "if len(mode)==n:\n",
    "    mode=\"No mode\"\n",
    "mean_difference_squared_sum=sum((x-mean)**2 for x in numbers)\n",
    "variance_sample=mean_difference_squared_sum/(n-1) if n>1 else 0\n",
    "variance_population=mean_difference_squared_sum/n\n",
    "std_deviation_sample=variance_sample**0.5\n",
    "std_deviation_population=variance_population**0.5\n",
    "print(f\"Mean={mean}\")\n",
    "print(f\"Median={median}\")\n",
    "print(f\"Mode={mode}\")\n",
    "print(f\"Sample variance={variance_sample}\")\n",
    "print(f\"Population variance={variance_population}\")\n",
    "print(f\"Sample standard deviation={std_deviation_sample}\")\n",
    "print(f\"Sample population deviation={std_deviation_population}\")\n",
    "                   "
   ]
  },
  {
   "cell_type": "markdown",
   "id": "84a26df7",
   "metadata": {},
   "source": [
    "# Experiment no:6\n",
    "## Develop a python script to rotate right about a given position in that list and display them."
   ]
  },
  {
   "cell_type": "code",
   "execution_count": 5,
   "id": "b209c9d5",
   "metadata": {},
   "outputs": [
    {
     "name": "stdout",
     "output_type": "stream",
     "text": [
      "Enter the integer number:253\n",
      "The reverse number is:352\n"
     ]
    }
   ],
   "source": [
    "number=int(input(\"Enter the integer number:\"))\n",
    "revs_number=0\n",
    "while(number>0):\n",
    "    remainder=number%10\n",
    "    revs_number=(revs_number*10)+remainder\n",
    "    number=number//10\n",
    "print(\"The reverse number is:{}\".format(revs_number))"
   ]
  },
  {
   "cell_type": "markdown",
   "id": "ba20841a",
   "metadata": {},
   "source": [
    "# Expriment no:7\n",
    "## Develop a python program to interchange the digits of a given number."
   ]
  },
  {
   "cell_type": "code",
   "execution_count": 5,
   "id": "9a83bbf2",
   "metadata": {},
   "outputs": [
    {
     "name": "stdout",
     "output_type": "stream",
     "text": [
      "Enter the user input:23456\n",
      "Enter the 1st position which u want to swap:2\n",
      "Enter the 2st position which u want to swap:4\n",
      "Original number: 23456\n",
      "Interchanged number: 25436\n"
     ]
    }
   ],
   "source": [
    "def interchange_digits(number,pos1,pos2):\n",
    "    number_str=str(number)\n",
    "    number_list=list(number_str)\n",
    "    number_list[pos1-1],number_list[pos2-1]=number_list[pos2-1],number_list[pos1-1]\n",
    "    interchanged_number=int(''.join(number_list))\n",
    "    return interchanged_number\n",
    "number=int(input('Enter the user input:'))\n",
    "pos1=int(input('Enter the 1st position which u want to swap:'))\n",
    "pos2=int(input('Enter the 2st position which u want to swap:'))\n",
    "interchanged_number=interchange_digits(number,pos1,pos2)\n",
    "print(\"Original number:\",number)\n",
    "print(\"Interchanged number:\",interchanged_number)"
   ]
  },
  {
   "cell_type": "markdown",
   "id": "4df9f500",
   "metadata": {},
   "source": [
    "# Experiment no:8\n",
    "## Develop a python program to capitalize a given list of string."
   ]
  },
  {
   "cell_type": "code",
   "execution_count": 3,
   "id": "c99d97e9",
   "metadata": {},
   "outputs": [
    {
     "name": "stdout",
     "output_type": "stream",
     "text": [
      "['Hello', 'Good', 'How', 'Simple']\n"
     ]
    }
   ],
   "source": [
    "def capitalize_strings(string_list):\n",
    "    return[s.capitalize() for s in string_list]\n",
    "input_strings=['hello','good','how','simple']\n",
    "capitalize_strings=capitalize_strings(input_strings)\n",
    "print(capitalize_strings)"
   ]
  },
  {
   "cell_type": "markdown",
   "id": "525a04ae",
   "metadata": {},
   "source": [
    "# Experiment no:9\n",
    "## Using a dictionary,develop a python program to determine and print the number of duplicate words in a sentence."
   ]
  },
  {
   "cell_type": "code",
   "execution_count": 9,
   "id": "937dc709",
   "metadata": {},
   "outputs": [
    {
     "name": "stdout",
     "output_type": "stream",
     "text": [
      "Enter a sentence:Big black bug bit a big black dog on his big black nose.\n",
      "Duplicate words and their counts:\n",
      "big:3\n",
      "black:3\n"
     ]
    }
   ],
   "source": [
    "def count_duplicate_words(sentence):\n",
    "    words=sentence.split()\n",
    "    word_count={}\n",
    "    for word in words:\n",
    "        word=word.lower()\n",
    "        if word in word_count:\n",
    "            word_count[word]+=1\n",
    "        else:\n",
    "            word_count[word]=1\n",
    "    duplicates={word:count for word,count in word_count.items() if count>1}\n",
    "    if duplicates:\n",
    "        print(\"Duplicate words and their counts:\")\n",
    "        for word,count in duplicates.items():\n",
    "            print(f\"{word}:{count}\")\n",
    "    else:\n",
    "        print(\"No duplicate words found.\")\n",
    "sentence=input(\"Enter a sentence:\")\n",
    "count_duplicate_words(sentence)"
   ]
  },
  {
   "cell_type": "code",
   "execution_count": null,
   "id": "fe0f72f3",
   "metadata": {},
   "outputs": [],
   "source": []
  }
 ],
 "metadata": {
  "kernelspec": {
   "display_name": "Python 3 (ipykernel)",
   "language": "python",
   "name": "python3"
  },
  "language_info": {
   "codemirror_mode": {
    "name": "ipython",
    "version": 3
   },
   "file_extension": ".py",
   "mimetype": "text/x-python",
   "name": "python",
   "nbconvert_exporter": "python",
   "pygments_lexer": "ipython3",
   "version": "3.10.9"
  }
 },
 "nbformat": 4,
 "nbformat_minor": 5
}
